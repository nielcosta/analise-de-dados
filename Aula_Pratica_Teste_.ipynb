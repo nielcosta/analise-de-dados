{
  "nbformat": 4,
  "nbformat_minor": 0,
  "metadata": {
    "colab": {
      "provenance": [],
      "collapsed_sections": [
        "pTTTdOa2GQiK",
        "dgD3sueKlgis",
        "p6lOjeQFsVAO",
        "gZInSvO23Wuf",
        "8OkVRh_S8cPv"
      ],
      "authorship_tag": "ABX9TyPY7tv3bL6P47JtI63lb3ud",
      "include_colab_link": true
    },
    "kernelspec": {
      "name": "python3",
      "display_name": "Python 3"
    },
    "language_info": {
      "name": "python"
    }
  },
  "cells": [
    {
      "cell_type": "markdown",
      "metadata": {
        "id": "view-in-github",
        "colab_type": "text"
      },
      "source": [
        "<a href=\"https://colab.research.google.com/github/nielcosta/analise-de-dados/blob/main/Aula_Pratica_Teste_.ipynb\" target=\"_parent\"><img src=\"https://colab.research.google.com/assets/colab-badge.svg\" alt=\"Open In Colab\"/></a>"
      ]
    },
    {
      "cell_type": "markdown",
      "source": [
        " ### Fundamentos de Python\n",
        " Aula 1 - Como trabalhar com o Colab"
      ],
      "metadata": {
        "id": "t6-wEoh298eA"
      }
    },
    {
      "cell_type": "markdown",
      "source": [
        "#### Introdução\n"
      ],
      "metadata": {
        "id": "pTTTdOa2GQiK"
      }
    },
    {
      "cell_type": "code",
      "execution_count": null,
      "metadata": {
        "id": "Z4MPHqTK83YT"
      },
      "outputs": [],
      "source": [
        "print ('Bora começar mais um estudo Python!')"
      ]
    },
    {
      "cell_type": "code",
      "source": [
        "mensagem = \"Olá Mundo cruel!\"\n",
        "print(mensagem)"
      ],
      "metadata": {
        "id": "x7q9oE86Hdmn"
      },
      "execution_count": null,
      "outputs": []
    },
    {
      "cell_type": "code",
      "source": [
        "nome = input (\"Qual é o seu nome ?: \")\n",
        "print(f'Seu nome é : {nome}')"
      ],
      "metadata": {
        "id": "J2YFmTRZHvaL"
      },
      "execution_count": null,
      "outputs": []
    },
    {
      "cell_type": "markdown",
      "source": [
        "##Operadores Matemáticos\n",
        "\n",
        "\n",
        "*texto em itálico*"
      ],
      "metadata": {
        "id": "dgD3sueKlgis"
      }
    },
    {
      "cell_type": "code",
      "source": [
        "n1=float(input ('Entre com primeiro número : '))\n",
        "n2=float(input ('Entre com segundo número : '))\n",
        "\n",
        "soma = n1+n2\n",
        "sub = n1 -n2\n",
        "mult= n1*n2\n",
        "div = n1/n2\n",
        "resto= n1%n2\n",
        "exp =n1**n2\n",
        "inte= n1//n2\n",
        "\n",
        "print(f'Soma de {n1} e {n2} é : {soma}')\n",
        "print(f'Subtração de {n1} e {n2} é :{sub}')\n",
        "print(f'Multiplicação de {n1} e {n2} é :{mult}')\n",
        "print(f'Divisão de {n1} por {n2} é :{div:.2f}')\n",
        "print(f'O Resto da Divisão de {n1} por {n2} é :{resto}')\n",
        "print(f'{n1} potencializado a {n2} é :{exp}')\n",
        "print(f'O Inteiro da Divisão de {n1} por {n2} é :{inte}')\n"
      ],
      "metadata": {
        "id": "5J77LRVvlqJL"
      },
      "execution_count": null,
      "outputs": []
    },
    {
      "cell_type": "markdown",
      "source": [
        "## Importação de Bibliotecas e Pacotes\n"
      ],
      "metadata": {
        "id": "_WG0hpGdr4l3"
      }
    },
    {
      "cell_type": "markdown",
      "source": [
        "### Biblioteca Numpy\n",
        "\n",
        "Link: https://numpy.org/doc/stable/user/index.html"
      ],
      "metadata": {
        "id": "p6lOjeQFsVAO"
      }
    },
    {
      "cell_type": "code",
      "source": [
        "import numpy as np"
      ],
      "metadata": {
        "id": "Jb_oLyKvseyy"
      },
      "execution_count": null,
      "outputs": []
    },
    {
      "cell_type": "code",
      "source": [
        "n = int (input('Entre com um número :'))\n",
        "raiz_quadrada = sqrt (n)\n",
        "print(f'A raiz quadrada de {n} é igual a {raiz_quadrada}')"
      ],
      "metadata": {
        "id": "nms3hs3Fs1dt"
      },
      "execution_count": null,
      "outputs": []
    },
    {
      "cell_type": "code",
      "source": [
        "import math"
      ],
      "metadata": {
        "id": "ukqdeEi8vaa4"
      },
      "execution_count": null,
      "outputs": []
    },
    {
      "cell_type": "markdown",
      "source": [
        "Link Documentação : https://docs.python.org/pt-br/3/library/math.html"
      ],
      "metadata": {
        "id": "d9wApZmuvsrH"
      }
    },
    {
      "cell_type": "code",
      "source": [
        "n = int (input('Entre com um número :'))\n",
        "raiz_quadrada = math.sqrt (n)\n",
        "print(f'A raiz quadrada de {n} é igual a {raiz_quadrada}')"
      ],
      "metadata": {
        "colab": {
          "base_uri": "https://localhost:8080/"
        },
        "id": "jrhS-xWGwJO-",
        "outputId": "37c12b7f-d436-4140-b671-ff17987f4e7a"
      },
      "execution_count": null,
      "outputs": [
        {
          "output_type": "stream",
          "name": "stdout",
          "text": [
            "Entre com um número :25\n",
            "A raiz quadrada de 25 é igual a 5.0\n"
          ]
        }
      ]
    },
    {
      "cell_type": "code",
      "source": [
        "from math import sqrt\n",
        "raiz = sqrt (n)\n",
        "print(f'Valor: {raiz}')\n"
      ],
      "metadata": {
        "colab": {
          "base_uri": "https://localhost:8080/"
        },
        "id": "RP5z_j90ylc4",
        "outputId": "092ec918-aa9c-4ff3-84c5-65779a07032d"
      },
      "execution_count": null,
      "outputs": [
        {
          "output_type": "stream",
          "name": "stdout",
          "text": [
            "Valor: 5.0\n"
          ]
        }
      ]
    },
    {
      "cell_type": "code",
      "source": [
        "from math import sqrt, factorial"
      ],
      "metadata": {
        "id": "HIxnQpCIzRIg"
      },
      "execution_count": null,
      "outputs": []
    },
    {
      "cell_type": "code",
      "source": [
        "n = int (input('Entre com um número :'))\n",
        "fatorial = math.factorial (n)\n",
        "print(f'O fatorial de {n} é igual a {fatorial}')"
      ],
      "metadata": {
        "colab": {
          "base_uri": "https://localhost:8080/"
        },
        "id": "UFewKp58z86m",
        "outputId": "e6c7966e-e809-4935-91fb-4874af050ef7"
      },
      "execution_count": null,
      "outputs": [
        {
          "output_type": "stream",
          "name": "stdout",
          "text": [
            "Entre com um número :5\n",
            "O fatorial de 5 é igual a 120\n"
          ]
        }
      ]
    },
    {
      "cell_type": "code",
      "source": [
        "fatorial_raiz = factorial(int(sqrt (25)))\n",
        "fatorial_raiz"
      ],
      "metadata": {
        "colab": {
          "base_uri": "https://localhost:8080/"
        },
        "id": "9FZch_6t00rd",
        "outputId": "fc51a95e-9647-4bf9-e61f-e1dc75e93665"
      },
      "execution_count": null,
      "outputs": [
        {
          "output_type": "execute_result",
          "data": {
            "text/plain": [
              "120"
            ]
          },
          "metadata": {},
          "execution_count": 28
        }
      ]
    },
    {
      "cell_type": "markdown",
      "source": [
        "### Random\n",
        "Link: https://docs.python.org/pt-br/3/library/random.html"
      ],
      "metadata": {
        "id": "gZInSvO23Wuf"
      }
    },
    {
      "cell_type": "code",
      "source": [
        "import random as rd\n",
        "num = rd.randint(1,12)\n",
        "num"
      ],
      "metadata": {
        "colab": {
          "base_uri": "https://localhost:8080/"
        },
        "id": "b0JaVoa33kaq",
        "outputId": "66401b46-e9d0-460f-8262-007afda53599"
      },
      "execution_count": null,
      "outputs": [
        {
          "output_type": "execute_result",
          "data": {
            "text/plain": [
              "4"
            ]
          },
          "metadata": {},
          "execution_count": 44
        }
      ]
    },
    {
      "cell_type": "code",
      "source": [
        "from random import randint, random\n",
        "\n",
        "randint(2,45)\n"
      ],
      "metadata": {
        "colab": {
          "base_uri": "https://localhost:8080/"
        },
        "id": "Ml7nNeHz5eur",
        "outputId": "12234a01-167f-4851-aa94-dcf8b571dddc"
      },
      "execution_count": null,
      "outputs": [
        {
          "output_type": "execute_result",
          "data": {
            "text/plain": [
              "9"
            ]
          },
          "metadata": {},
          "execution_count": 46
        }
      ]
    },
    {
      "cell_type": "code",
      "source": [
        "\"\"\"Caso necessite de ajuda com uma expressão basta colocar a expressão seguido de interrogação\n",
        "random?\n",
        "No caso do random abaixo, será realizado um sorteio que pode dar como resultado\n",
        "um valor entre 0 a 1\n",
        "\"\"\"\n",
        "num = random()\n",
        "print(f'{num:.2f}')\n"
      ],
      "metadata": {
        "colab": {
          "base_uri": "https://localhost:8080/"
        },
        "id": "dJDX9ktt5ykJ",
        "outputId": "09dd79d3-baab-43c8-cce0-65fc67906f40"
      },
      "execution_count": null,
      "outputs": [
        {
          "output_type": "stream",
          "name": "stdout",
          "text": [
            "0.45\n"
          ]
        }
      ]
    },
    {
      "cell_type": "markdown",
      "source": [],
      "metadata": {
        "id": "TbP9_4zQ8aFt"
      }
    },
    {
      "cell_type": "markdown",
      "source": [
        "### Estrutura de Condição"
      ],
      "metadata": {
        "id": "8OkVRh_S8cPv"
      }
    },
    {
      "cell_type": "markdown",
      "source": [
        "if | elif | else\n"
      ],
      "metadata": {
        "id": "3uQUxB1C8jmN"
      }
    },
    {
      "cell_type": "code",
      "source": [
        "try:\n",
        "\n",
        "  not1 = float(input ('Nota 1:'))\n",
        "  not2 = float(input ('Nota 2:'))\n",
        "  not3 = float(input ('Nota 3:'))\n",
        "  nota = (not1 + not2 +not3)/3\n",
        "  print(f'Nota final : {nota:.2f}')\n",
        "\n",
        "  if (nota >=80):\n",
        "    print('Parabéns você passou de fase! ')\n",
        "  elif ((nota>=60) and (nota<=79)): print('Cuidado! Você esta de recuperação! ')\n",
        "  else: print('Sinto muito...você não passou de fase! ')\n",
        "\n",
        "except: print ('Valores incorretos de entrada!')\n",
        "\n",
        "\n"
      ],
      "metadata": {
        "id": "JA5txFG_8ukX"
      },
      "execution_count": null,
      "outputs": []
    },
    {
      "cell_type": "markdown",
      "source": [
        "## Estrutura de Repetição\n",
        "\n",
        "Comandos For\n"
      ],
      "metadata": {
        "id": "YL1gHJz6C0-d"
      }
    },
    {
      "cell_type": "code",
      "source": [
        "for i in range (0,101):\n",
        " if i%2==0 :print (i, end=' ')"
      ],
      "metadata": {
        "colab": {
          "base_uri": "https://localhost:8080/"
        },
        "id": "1Yq3xqdTDMz0",
        "outputId": "f6a2baff-8968-44d1-bbb4-75b9021bf4bc"
      },
      "execution_count": null,
      "outputs": [
        {
          "output_type": "stream",
          "name": "stdout",
          "text": [
            "0 2 4 6 8 10 12 14 16 18 20 22 24 26 28 30 32 34 36 38 40 42 44 46 48 50 52 54 56 58 60 62 64 66 68 70 72 74 76 78 80 82 84 86 88 90 92 94 96 98 100 "
          ]
        }
      ]
    },
    {
      "cell_type": "code",
      "source": [
        "lista =[2,4,5,6,7,8,9,10]\n",
        "\n",
        "for i in lista :\n",
        "  i=i**2\n",
        "  print(i, end=' ')"
      ],
      "metadata": {
        "colab": {
          "base_uri": "https://localhost:8080/"
        },
        "id": "LqES8OUBEWty",
        "outputId": "d6f87aa3-7c92-4a01-a291-4308d0d866f7"
      },
      "execution_count": null,
      "outputs": [
        {
          "output_type": "stream",
          "name": "stdout",
          "text": [
            "4 16 25 36 49 64 81 100 "
          ]
        }
      ]
    },
    {
      "cell_type": "code",
      "source": [
        "soma =0\n",
        "cont =0\n",
        "\n",
        "for c in range (1, 6):\n",
        "  num = int(input(f'Digite o {c}° Valor: '))\n",
        "  if num %2 ==0:\n",
        "      soma = soma+num\n",
        "      cont=cont+1\n",
        "\n",
        "print(f'Foram {cont} números informados e a soma deles foi: {soma}')\n"
      ],
      "metadata": {
        "colab": {
          "base_uri": "https://localhost:8080/"
        },
        "id": "KmLecq5jFFIp",
        "outputId": "fc5180b7-430a-4333-b4da-8cb6564cf466"
      },
      "execution_count": null,
      "outputs": [
        {
          "output_type": "stream",
          "name": "stdout",
          "text": [
            "Digite o 1° Valor: 2\n",
            "Digite o 2° Valor: 4\n",
            "Digite o 3° Valor: 6\n",
            "Digite o 4° Valor: 8\n",
            "Digite o 5° Valor: 4\n",
            "Foram 5 números informados e a soma deles foi: 24\n"
          ]
        }
      ]
    },
    {
      "cell_type": "markdown",
      "source": [
        "Comandos While"
      ],
      "metadata": {
        "id": "lJ1MqJCWHxV0"
      }
    },
    {
      "cell_type": "code",
      "source": [
        "c=1\n",
        "s=0\n",
        "while c<10:\n",
        "  s = c+10\n",
        "  print(s, end='-')\n",
        "  c=c+1\n",
        "print('FIM')"
      ],
      "metadata": {
        "colab": {
          "base_uri": "https://localhost:8080/"
        },
        "id": "EYXC64f7H4he",
        "outputId": "c3b8723a-6d8a-427b-eebd-1394394487ec"
      },
      "execution_count": null,
      "outputs": [
        {
          "output_type": "stream",
          "name": "stdout",
          "text": [
            "11-12-13-14-15-16-17-18-19-FIM\n"
          ]
        }
      ]
    },
    {
      "cell_type": "markdown",
      "source": [
        "### Listas Tuplas e Dicionários\n",
        "\n",
        "Listas [ ]\n",
        "Tuplas ( )\n",
        "Dicionários { }\n"
      ],
      "metadata": {
        "id": "5NT-7sxpcoyu"
      }
    },
    {
      "cell_type": "markdown",
      "source": [
        "##Listas"
      ],
      "metadata": {
        "id": "jb-KHnV0j0ZI"
      }
    },
    {
      "cell_type": "code",
      "source": [],
      "metadata": {
        "id": "H904uuwajzyx"
      },
      "execution_count": null,
      "outputs": []
    },
    {
      "cell_type": "code",
      "source": [
        "num =[2,5,6,4,8]\n",
        "num\n",
        "\n"
      ],
      "metadata": {
        "colab": {
          "base_uri": "https://localhost:8080/"
        },
        "id": "B7oxsxBdcg5w",
        "outputId": "7323de02-d889-41d3-f4fd-bcf18b56628b"
      },
      "execution_count": null,
      "outputs": [
        {
          "output_type": "execute_result",
          "data": {
            "text/plain": [
              "[2, 5, 6, 4, 8]"
            ]
          },
          "metadata": {},
          "execution_count": 1
        }
      ]
    },
    {
      "cell_type": "code",
      "source": [
        "num[2] =9\n",
        "num\n"
      ],
      "metadata": {
        "colab": {
          "base_uri": "https://localhost:8080/"
        },
        "id": "wJpRLHPJdQnZ",
        "outputId": "9871b7fc-28f4-4ac1-8162-47815d216a0f"
      },
      "execution_count": null,
      "outputs": [
        {
          "output_type": "execute_result",
          "data": {
            "text/plain": [
              "[2, 5, 9, 4, 8]"
            ]
          },
          "metadata": {},
          "execution_count": 2
        }
      ]
    },
    {
      "cell_type": "code",
      "source": [
        "num.append(10)\n",
        "num"
      ],
      "metadata": {
        "colab": {
          "base_uri": "https://localhost:8080/"
        },
        "id": "K2Jp6XSWgCB4",
        "outputId": "edad9181-d70b-44b7-94df-d427de674293"
      },
      "execution_count": null,
      "outputs": [
        {
          "output_type": "execute_result",
          "data": {
            "text/plain": [
              "[2, 5, 9, 4, 8, 10]"
            ]
          },
          "metadata": {},
          "execution_count": 3
        }
      ]
    },
    {
      "cell_type": "code",
      "source": [
        "num.sort()\n",
        "num"
      ],
      "metadata": {
        "colab": {
          "base_uri": "https://localhost:8080/"
        },
        "id": "p1imO9Xsg5gO",
        "outputId": "801082d8-da46-4fb2-eb2f-050e346d5349"
      },
      "execution_count": null,
      "outputs": [
        {
          "output_type": "execute_result",
          "data": {
            "text/plain": [
              "[2, 4, 5, 8, 9, 10]"
            ]
          },
          "metadata": {},
          "execution_count": 5
        }
      ]
    },
    {
      "cell_type": "code",
      "source": [
        "num.insert(22,1)\n",
        "num"
      ],
      "metadata": {
        "colab": {
          "base_uri": "https://localhost:8080/"
        },
        "id": "OtCWIJ9uhLMt",
        "outputId": "cdad5978-4d57-4864-81b6-31e76401945b"
      },
      "execution_count": null,
      "outputs": [
        {
          "output_type": "execute_result",
          "data": {
            "text/plain": [
              "[1, 2, 4, 5, 8, 9, 10, 0, 1]"
            ]
          },
          "metadata": {},
          "execution_count": 9
        }
      ]
    },
    {
      "cell_type": "code",
      "source": [
        "num.remove(0)\n",
        "num"
      ],
      "metadata": {
        "colab": {
          "base_uri": "https://localhost:8080/"
        },
        "id": "aTo_Y6Yxht4k",
        "outputId": "9b003ce9-26b7-46bb-b7df-b5e98ee385e2"
      },
      "execution_count": null,
      "outputs": [
        {
          "output_type": "execute_result",
          "data": {
            "text/plain": [
              "[2, 4, 5, 8, 9, 10]"
            ]
          },
          "metadata": {},
          "execution_count": 13
        }
      ]
    },
    {
      "cell_type": "code",
      "source": [
        "num.pop(2)\n",
        "num"
      ],
      "metadata": {
        "colab": {
          "base_uri": "https://localhost:8080/"
        },
        "id": "JTY0IPt5iaG7",
        "outputId": "d619dcd4-9130-40be-94dd-445b8cfac8e9"
      },
      "execution_count": null,
      "outputs": [
        {
          "output_type": "execute_result",
          "data": {
            "text/plain": [
              "[2, 4, 8, 9, 10]"
            ]
          },
          "metadata": {},
          "execution_count": 14
        }
      ]
    },
    {
      "cell_type": "markdown",
      "source": [
        "## Tupla"
      ],
      "metadata": {
        "id": "TKwpkYVQikk4"
      }
    },
    {
      "cell_type": "code",
      "source": [
        "num2=(2,45,8,7,5,6,10,1,3) #Tupla nunca é alterada\n",
        "num2\n"
      ],
      "metadata": {
        "colab": {
          "base_uri": "https://localhost:8080/"
        },
        "id": "cI1e4yXdiouj",
        "outputId": "df5d39e1-2b90-416d-ac12-674fed8d54d4"
      },
      "execution_count": null,
      "outputs": [
        {
          "output_type": "execute_result",
          "data": {
            "text/plain": [
              "(2, 45, 8, 7, 5, 6, 10, 1, 3)"
            ]
          },
          "metadata": {},
          "execution_count": 15
        }
      ]
    },
    {
      "cell_type": "code",
      "source": [
        "num2(3)=21\n",
        "num2"
      ],
      "metadata": {
        "id": "x72x7PTKi6J6"
      },
      "execution_count": null,
      "outputs": []
    },
    {
      "cell_type": "markdown",
      "source": [
        "## Dicionários"
      ],
      "metadata": {
        "id": "SaOlxWDwjuy_"
      }
    },
    {
      "cell_type": "code",
      "source": [
        "pessoa = {'CodigoCli':1,'Nome':'Daniel', 'Profissao' :'Analista', 'Salario':5000}\n",
        "print(pessoa)"
      ],
      "metadata": {
        "colab": {
          "base_uri": "https://localhost:8080/"
        },
        "id": "cCnbKOrwjphY",
        "outputId": "a29464c5-3d87-4426-aee8-16ad6b8f9f41"
      },
      "execution_count": null,
      "outputs": [
        {
          "output_type": "stream",
          "name": "stdout",
          "text": [
            "{'CodigoCli': 1, 'Nome': 'Daniel', 'Profissao': 'Analista', 'Salario': 5000}\n"
          ]
        }
      ]
    },
    {
      "cell_type": "code",
      "source": [
        "pessoa['time']='Flamengo'\n",
        "print(pessoa)"
      ],
      "metadata": {
        "colab": {
          "base_uri": "https://localhost:8080/"
        },
        "id": "yA7nlA6tlRGt",
        "outputId": "daf119f4-e306-4582-d4b6-187aa8de00b9"
      },
      "execution_count": null,
      "outputs": [
        {
          "output_type": "stream",
          "name": "stdout",
          "text": [
            "{'CodigoCli': 1, 'Nome': 'Daniel', 'Profissao': 'Analista', 'Salario': 5000, 'time': 'Flamengo'}\n"
          ]
        }
      ]
    },
    {
      "cell_type": "code",
      "source": [
        "del pessoa ['Salario']\n",
        "print(pessoa)"
      ],
      "metadata": {
        "colab": {
          "base_uri": "https://localhost:8080/"
        },
        "id": "j1467mNZl_z9",
        "outputId": "3e3b15af-c717-4b2c-9a61-fce5f9b56995"
      },
      "execution_count": null,
      "outputs": [
        {
          "output_type": "stream",
          "name": "stdout",
          "text": [
            "{'CodigoCli': 1, 'Nome': 'Daniel', 'Profissao': 'Analista', 'time': 'Flamengo'}\n"
          ]
        }
      ]
    },
    {
      "cell_type": "code",
      "source": [
        "pessoa['Nascimento']='13/11/1981'\n",
        "pessoa\n"
      ],
      "metadata": {
        "colab": {
          "base_uri": "https://localhost:8080/"
        },
        "id": "GB5FT8rvn1uI",
        "outputId": "8da22cc4-bdc6-457b-ae80-abf825f8835c"
      },
      "execution_count": null,
      "outputs": [
        {
          "output_type": "execute_result",
          "data": {
            "text/plain": [
              "{'CodigoCli': 1,\n",
              " 'Nome': 'Daniel',\n",
              " 'Profissao': 'Analista',\n",
              " 'time': 'Flamengo',\n",
              " 'Nascimento': '13/11/1981'}"
            ]
          },
          "metadata": {},
          "execution_count": 26
        }
      ]
    },
    {
      "cell_type": "code",
      "source": [
        "del pessoa ['time']\n",
        "pessoa"
      ],
      "metadata": {
        "colab": {
          "base_uri": "https://localhost:8080/"
        },
        "id": "PCGtEYuroDPG",
        "outputId": "87cc9b7f-e8e3-4824-8e15-a78a5d645ba0"
      },
      "execution_count": null,
      "outputs": [
        {
          "output_type": "execute_result",
          "data": {
            "text/plain": [
              "{'CodigoCli': 1,\n",
              " 'Nome': 'Daniel',\n",
              " 'Profissao': 'Analista',\n",
              " 'Nascimento': '13/11/1981'}"
            ]
          },
          "metadata": {},
          "execution_count": 27
        }
      ]
    },
    {
      "cell_type": "markdown",
      "source": [
        "## Funções"
      ],
      "metadata": {
        "id": "f4vvvLIvoQ9x"
      }
    },
    {
      "cell_type": "code",
      "source": [
        "def identificacao(nome, idade):\n",
        "  if (idade <18): print(f'{nome}, você é de menor ! Você só possui {idade} ano(s)')\n",
        "  elif(idade >18)and (idade<60):print(f'{nome}, você é adulto ! Você possui {idade} ano(s)')\n",
        "  else:print(f'{nome}, você é idoso ! Você possui {idade} ano(s)')\n",
        "\n",
        "try:\n",
        "  nome = input('Entre com o seu nome:')\n",
        "  idade = int(input('Entre com a sua idade:'))\n",
        "  identificacao (nome, idade)\n",
        "\n",
        "except ValueError:\n",
        "    print('Entre com valores válidos da próxima vez!')"
      ],
      "metadata": {
        "colab": {
          "base_uri": "https://localhost:8080/"
        },
        "id": "ZwVOkLwUoP1u",
        "outputId": "7b6dd4e6-cb93-4d76-baee-921629941b95"
      },
      "execution_count": null,
      "outputs": [
        {
          "output_type": "stream",
          "name": "stdout",
          "text": [
            "Entre com o seu nome:Miguel\n",
            "Entre com a sua idade:9\n",
            "Miguel, você é de menor ! Você só possui 9 ano(s)\n"
          ]
        }
      ]
    },
    {
      "cell_type": "code",
      "source": [
        "def classificacao(n1, n2):\n",
        "  if (n1<n2): print(f'{n2} é maior que {n1}')\n",
        "  elif (n1>n2): print(f'{n1} é maior que {n2}')\n",
        "  else: print(f'{n1} e {n2} são iguais ')\n",
        "\n",
        "try:\n",
        "  num1 = int(input('Entre com número 1:'))\n",
        "  num2 = int(input('Entre com número 2:'))\n",
        "  classificacao(num1, num2)\n",
        "\n",
        "except ValueError:\n",
        "    print('Entre com valores válidos da próxima vez!')"
      ],
      "metadata": {
        "colab": {
          "base_uri": "https://localhost:8080/"
        },
        "id": "CmSyCKt6rROZ",
        "outputId": "ff6dfa07-26a8-4508-aa01-6c27a527c5f2"
      },
      "execution_count": null,
      "outputs": [
        {
          "output_type": "stream",
          "name": "stdout",
          "text": [
            "Entre com número 1:2\n",
            "Entre com número 2:2\n",
            "2 e 2 são iguais \n"
          ]
        }
      ]
    },
    {
      "cell_type": "code",
      "source": [
        "# Calcular hipotenusa\n",
        "\n",
        "def calculo (hip, b,c):\n",
        "  if hip =='0':\n",
        "    hip = ((b**2)+(c**2))**1/2\n",
        "    print(f'O valor da hipotenusa foi {hip}')\n",
        "  elif c =='0':\n",
        "     c = ((hip**2)+(b**2))**1/2\n",
        "     print(f'O valor cateto 2  foi {c}')\n",
        "  else:\n",
        "     b = ((hip**2)+(c**2))**1/2\n",
        "     print(f'O valor cateto 1  foi {b}')\n",
        "\n",
        "try:\n",
        "  hip = int(input('Entre com hipotenusa:'))\n",
        "  b = int(input('Entre com cateto1:'))\n",
        "  c = int(input('Entre com 2:'))\n",
        "  calculo(hip,b,c)\n",
        "except ValueError:\n",
        "    print('Entre com valores válidos da próxima vez!')\n"
      ],
      "metadata": {
        "colab": {
          "base_uri": "https://localhost:8080/"
        },
        "id": "-lsfAruItBbW",
        "outputId": "5a8e30b3-be91-46ef-a58a-cab2710c63cb"
      },
      "execution_count": null,
      "outputs": [
        {
          "output_type": "stream",
          "name": "stdout",
          "text": [
            "Entre com hipotenusa:0\n",
            "Entre com cateto1:4\n",
            "Entre com 2:3\n",
            "O valor cateto 1  foi 4.5\n"
          ]
        }
      ]
    },
    {
      "cell_type": "markdown",
      "source": [
        "## Funções Lambda e Map"
      ],
      "metadata": {
        "id": "AigEH4ZhjTVR"
      }
    },
    {
      "cell_type": "code",
      "source": [
        "def area_quadrado(l):\n",
        "  area = l*l\n",
        "  print (area)\n",
        "\n",
        "try:\n",
        "  lado = int(input('Entre com o lado do quadrado:'))\n",
        "  area_quadrado(lado)\n",
        "except ValueError:\n",
        "    print('Entre com valores válidos da próxima vez!')"
      ],
      "metadata": {
        "colab": {
          "base_uri": "https://localhost:8080/"
        },
        "id": "YptsrQaOldoq",
        "outputId": "55f16368-7b6d-457a-aef9-a529cb8aa87d"
      },
      "execution_count": 2,
      "outputs": [
        {
          "output_type": "stream",
          "name": "stdout",
          "text": [
            "Entre com o lado do quadrado:2\n",
            "4\n"
          ]
        }
      ]
    },
    {
      "cell_type": "code",
      "source": [
        "#função lambda\n",
        "\n",
        "area2 = lambda x:x**2\n",
        "area2(5)\n"
      ],
      "metadata": {
        "colab": {
          "base_uri": "https://localhost:8080/"
        },
        "id": "fDIrrI8ymTuL",
        "outputId": "a3ede04e-f9ee-446d-a51f-efd90124cef6"
      },
      "execution_count": 11,
      "outputs": [
        {
          "output_type": "execute_result",
          "data": {
            "text/plain": [
              "25"
            ]
          },
          "metadata": {},
          "execution_count": 11
        }
      ]
    },
    {
      "cell_type": "code",
      "source": [
        "# Cálculo da área do retângulo usando uma função lambda\n",
        "area_ret = lambda b, h: b * h\n",
        "\n",
        "try:\n",
        "  base = int(input('Entre com a base:'))\n",
        "  altura = int(input('Entre com altura:'))\n",
        "  área = area_ret(base, altura)\n",
        "  print(f\"A área do retângulo é {área} unidades quadradas.\")\n",
        "\n",
        "except ValueError:\n",
        "    print('Entre com valores válidos da próxima vez!')\n",
        "\n",
        "\n",
        "\n"
      ],
      "metadata": {
        "colab": {
          "base_uri": "https://localhost:8080/"
        },
        "id": "DcvL4g9fqQ3L",
        "outputId": "4f2de78e-0592-40cc-de69-0e112d0c9341"
      },
      "execution_count": 21,
      "outputs": [
        {
          "output_type": "stream",
          "name": "stdout",
          "text": [
            "Entre com a base:8\n",
            "Entre com altura:5\n",
            "A área do retângulo é 40 unidades quadradas.\n"
          ]
        }
      ]
    },
    {
      "cell_type": "markdown",
      "source": [
        "### Função Map"
      ],
      "metadata": {
        "id": "_5aQKM8msW6_"
      }
    },
    {
      "cell_type": "code",
      "source": [
        "Lista = [4,6,8,7,9,11,13]\n",
        "areas = list(map(lambda x: x*2,Lista))\n",
        "print(areas)\n"
      ],
      "metadata": {
        "colab": {
          "base_uri": "https://localhost:8080/"
        },
        "id": "RYAKQ0zNsZCO",
        "outputId": "8b6dbdbf-debe-4c72-d734-77395153e571"
      },
      "execution_count": 23,
      "outputs": [
        {
          "output_type": "stream",
          "name": "stdout",
          "text": [
            "[8, 12, 16, 14, 18, 22, 26]\n"
          ]
        }
      ]
    },
    {
      "cell_type": "code",
      "source": [
        "# Cálculo da área usando uma função lambda e map()\n",
        "lista = []\n",
        "for i in range(10):\n",
        "    numero = int(input(f'Entre com um número{i+1}: '))\n",
        "    lista.append(numero)\n",
        "\n",
        "areas = list(map(lambda x: x**2, lista))\n",
        "print(areas)"
      ],
      "metadata": {
        "colab": {
          "base_uri": "https://localhost:8080/"
        },
        "id": "d__ZAyq_t2DL",
        "outputId": "f80e6987-a490-4d6b-ea06-358d7557f54a"
      },
      "execution_count": 30,
      "outputs": [
        {
          "output_type": "stream",
          "name": "stdout",
          "text": [
            "Entre com um número1: 1\n",
            "Entre com um número2: 2\n",
            "Entre com um número3: 3\n",
            "Entre com um número4: 4\n",
            "Entre com um número5: 5\n",
            "Entre com um número6: 6\n",
            "Entre com um número7: 7\n",
            "Entre com um número8: 8\n",
            "Entre com um número9: 9\n",
            "Entre com um número10: 10\n",
            "[1, 4, 9, 16, 25, 36, 49, 64, 81, 100]\n"
          ]
        }
      ]
    },
    {
      "cell_type": "markdown",
      "source": [
        "## List Comprehensions"
      ],
      "metadata": {
        "id": "mczwE7dLtu1k"
      }
    },
    {
      "cell_type": "code",
      "source": [
        "lista1 =[]\n",
        "for valor in range(5):\n",
        "  lista1.append(valor**2)\n",
        "print (lista1)"
      ],
      "metadata": {
        "colab": {
          "base_uri": "https://localhost:8080/"
        },
        "id": "98mJ4YaXtxnD",
        "outputId": "90916d7f-731e-4ff8-82e9-37d2f22eba71"
      },
      "execution_count": 35,
      "outputs": [
        {
          "output_type": "stream",
          "name": "stdout",
          "text": [
            "[0, 1, 4, 9, 16]\n"
          ]
        }
      ]
    },
    {
      "cell_type": "code",
      "source": [
        "lista= [valor+10 for valor in range(5)]\n",
        "print (lista)"
      ],
      "metadata": {
        "colab": {
          "base_uri": "https://localhost:8080/"
        },
        "id": "aw0uI6Hmxnhl",
        "outputId": "3bf87b89-03c7-44fd-ac15-3ca7c4bc9cf0"
      },
      "execution_count": 37,
      "outputs": [
        {
          "output_type": "stream",
          "name": "stdout",
          "text": [
            "[10, 11, 12, 13, 14]\n"
          ]
        }
      ]
    },
    {
      "cell_type": "code",
      "source": [
        "lista=[]\n",
        "for numero in range(1,30):\n",
        "  if numero %4 ==0 :  lista.append(numero)\n",
        "print(lista)\n"
      ],
      "metadata": {
        "colab": {
          "base_uri": "https://localhost:8080/"
        },
        "id": "N-Mu4eT-y7w6",
        "outputId": "75afb194-2d9f-4423-f6ad-6668780f5279"
      },
      "execution_count": 39,
      "outputs": [
        {
          "output_type": "stream",
          "name": "stdout",
          "text": [
            "[4, 8, 12, 16, 20, 24, 28]\n"
          ]
        }
      ]
    },
    {
      "cell_type": "code",
      "source": [
        "#Outra forma\n",
        "\n",
        "multiplos4 = [numero for numero in range(1,30) if numero%4 ==0 ]\n",
        "print(multiplos4)"
      ],
      "metadata": {
        "colab": {
          "base_uri": "https://localhost:8080/"
        },
        "id": "1NFGJqOkzYMQ",
        "outputId": "ace094e2-54df-4487-a0f6-a764edc0bb44"
      },
      "execution_count": 41,
      "outputs": [
        {
          "output_type": "stream",
          "name": "stdout",
          "text": [
            "[4, 8, 12, 16, 20, 24, 28]\n"
          ]
        }
      ]
    },
    {
      "cell_type": "code",
      "source": [
        "# Lista de conceitos com base nas notas\n",
        "conceito = ['azul' if nota >7 else 'amarela' if 5 <= nota <=7 else 'vermelha' for nota in range (0,11) ]\n",
        "print(conceito)\n"
      ],
      "metadata": {
        "colab": {
          "base_uri": "https://localhost:8080/"
        },
        "id": "7DypZSA4z42A",
        "outputId": "869e8d6b-4e2e-47bb-ee03-b5447f723b8e"
      },
      "execution_count": 43,
      "outputs": [
        {
          "output_type": "stream",
          "name": "stdout",
          "text": [
            "['vermelha', 'vermelha', 'vermelha', 'vermelha', 'vermelha', 'amarela', 'amarela', 'amarela', 'azul', 'azul', 'azul']\n"
          ]
        }
      ]
    },
    {
      "cell_type": "markdown",
      "source": [
        "## Vetores e Matrizes"
      ],
      "metadata": {
        "id": "BCpn3bvu2DXj"
      }
    },
    {
      "cell_type": "code",
      "source": [
        "vetor = [ 2,5,6,4,8,9]\n",
        "type(vetor)"
      ],
      "metadata": {
        "colab": {
          "base_uri": "https://localhost:8080/"
        },
        "id": "eYny5PyM3ZGQ",
        "outputId": "62350db7-91a8-4034-f364-f5783f227fcb"
      },
      "execution_count": 44,
      "outputs": [
        {
          "output_type": "execute_result",
          "data": {
            "text/plain": [
              "list"
            ]
          },
          "metadata": {},
          "execution_count": 44
        }
      ]
    },
    {
      "cell_type": "code",
      "source": [
        "matriz =[ [1,2,3,4],\n",
        "          [5,6,7,8],\n",
        "          [9,10,11,12]]\n",
        "type(matriz)"
      ],
      "metadata": {
        "colab": {
          "base_uri": "https://localhost:8080/"
        },
        "id": "kgcVfU5G3rWw",
        "outputId": "f354201d-c037-40f3-d5f9-e116c643f1de"
      },
      "execution_count": 45,
      "outputs": [
        {
          "output_type": "execute_result",
          "data": {
            "text/plain": [
              "list"
            ]
          },
          "metadata": {},
          "execution_count": 45
        }
      ]
    },
    {
      "cell_type": "code",
      "source": [
        "print(matriz)"
      ],
      "metadata": {
        "colab": {
          "base_uri": "https://localhost:8080/"
        },
        "id": "ENio_5hJ4Jan",
        "outputId": "6519c59b-63e7-47fd-9bef-0a47e017e725"
      },
      "execution_count": 48,
      "outputs": [
        {
          "output_type": "stream",
          "name": "stdout",
          "text": [
            "[[1, 2, 3, 4], [5, 6, 7, 8], [9, 10, 11, 12]]\n"
          ]
        }
      ]
    },
    {
      "cell_type": "code",
      "source": [
        "import numpy as np\n",
        "\n",
        "vetor2 = np.array([1,-3,4.2,12])\n",
        "type(vetor2)"
      ],
      "metadata": {
        "colab": {
          "base_uri": "https://localhost:8080/"
        },
        "id": "4A_ktfcl4eBG",
        "outputId": "e31d1521-6b04-42db-9593-50faca61f9f2"
      },
      "execution_count": 53,
      "outputs": [
        {
          "output_type": "execute_result",
          "data": {
            "text/plain": [
              "numpy.ndarray"
            ]
          },
          "metadata": {},
          "execution_count": 52
        },
        {
          "output_type": "execute_result",
          "data": {
            "text/plain": [
              "numpy.ndarray"
            ]
          },
          "metadata": {},
          "execution_count": 53
        }
      ]
    },
    {
      "cell_type": "code",
      "source": [
        "print(vetor2)"
      ],
      "metadata": {
        "id": "r31FokbC5Y8M",
        "outputId": "1c143c40-e565-4a8b-d387-fa84cdedc20c",
        "colab": {
          "base_uri": "https://localhost:8080/"
        }
      },
      "execution_count": 54,
      "outputs": [
        {
          "output_type": "stream",
          "name": "stdout",
          "text": [
            "[ 1.  -3.   4.2 12. ]\n"
          ]
        }
      ]
    },
    {
      "cell_type": "code",
      "source": [
        "matriz2=np.ones((2,3))\n",
        "matriz2"
      ],
      "metadata": {
        "id": "9NyvE10l5psD",
        "outputId": "551076c2-79bd-4507-9f27-23f7f6216b76",
        "colab": {
          "base_uri": "https://localhost:8080/"
        }
      },
      "execution_count": 56,
      "outputs": [
        {
          "output_type": "execute_result",
          "data": {
            "text/plain": [
              "array([[1., 1., 1.],\n",
              "       [1., 1., 1.]])"
            ]
          },
          "metadata": {},
          "execution_count": 56
        }
      ]
    },
    {
      "cell_type": "code",
      "source": [
        "type(matriz2)"
      ],
      "metadata": {
        "id": "2_Y7rGXc56rz",
        "outputId": "70e5df35-d4b1-496f-e5e9-eec790079248",
        "colab": {
          "base_uri": "https://localhost:8080/"
        }
      },
      "execution_count": 58,
      "outputs": [
        {
          "output_type": "execute_result",
          "data": {
            "text/plain": [
              "numpy.ndarray"
            ]
          },
          "metadata": {},
          "execution_count": 58
        }
      ]
    },
    {
      "cell_type": "code",
      "source": [
        "matriz3= np.diag((2,3,5,6,4,10))\n",
        "matriz3"
      ],
      "metadata": {
        "id": "mnt1X0505_-D",
        "outputId": "653c1560-56dd-4c8c-d1b4-03c6f241103a",
        "colab": {
          "base_uri": "https://localhost:8080/"
        }
      },
      "execution_count": 59,
      "outputs": [
        {
          "output_type": "execute_result",
          "data": {
            "text/plain": [
              "array([[ 2,  0,  0,  0,  0,  0],\n",
              "       [ 0,  3,  0,  0,  0,  0],\n",
              "       [ 0,  0,  5,  0,  0,  0],\n",
              "       [ 0,  0,  0,  6,  0,  0],\n",
              "       [ 0,  0,  0,  0,  4,  0],\n",
              "       [ 0,  0,  0,  0,  0, 10]])"
            ]
          },
          "metadata": {},
          "execution_count": 59
        }
      ]
    },
    {
      "cell_type": "code",
      "source": [
        "type(matriz3)"
      ],
      "metadata": {
        "id": "qvxNpkRN60qi",
        "outputId": "dcfc6fc6-7f74-4409-cee1-eef62593f409",
        "colab": {
          "base_uri": "https://localhost:8080/"
        }
      },
      "execution_count": 60,
      "outputs": [
        {
          "output_type": "execute_result",
          "data": {
            "text/plain": [
              "numpy.ndarray"
            ]
          },
          "metadata": {},
          "execution_count": 60
        }
      ]
    }
  ]
}